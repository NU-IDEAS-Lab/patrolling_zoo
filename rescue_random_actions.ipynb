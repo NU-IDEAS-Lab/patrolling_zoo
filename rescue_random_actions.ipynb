{
 "cells": [
  {
   "cell_type": "code",
   "execution_count": 12,
   "metadata": {},
   "outputs": [
    {
     "name": "stdout",
     "output_type": "stream",
     "text": [
      "The autoreload extension is already loaded. To reload it, use:\n",
      "  %reload_ext autoreload\n"
     ]
    },
    {
     "ename": "ImportError",
     "evalue": "cannot import name 'RescueGraph' from 'rescue_zoo.rescue_zoo_v0' (c:\\Users\\Anthony\\Development\\rescue_zoo\\rescue_zoo\\rescue_zoo_v0.py)",
     "output_type": "error",
     "traceback": [
      "\u001b[1;31m---------------------------------------------------------------------------\u001b[0m",
      "\u001b[1;31mImportError\u001b[0m                               Traceback (most recent call last)",
      "Cell \u001b[1;32mIn[12], line 5\u001b[0m\n\u001b[0;32m      2\u001b[0m get_ipython()\u001b[39m.\u001b[39mrun_line_magic(\u001b[39m'\u001b[39m\u001b[39mautoreload\u001b[39m\u001b[39m'\u001b[39m, \u001b[39m'\u001b[39m\u001b[39m2\u001b[39m\u001b[39m'\u001b[39m)\n\u001b[0;32m      4\u001b[0m \u001b[39mfrom\u001b[39;00m \u001b[39mIPython\u001b[39;00m\u001b[39m.\u001b[39;00m\u001b[39mdisplay\u001b[39;00m \u001b[39mimport\u001b[39;00m clear_output\n\u001b[1;32m----> 5\u001b[0m \u001b[39mfrom\u001b[39;00m \u001b[39mrescue_zoo\u001b[39;00m\u001b[39m.\u001b[39;00m\u001b[39mrescue_zoo_v0\u001b[39;00m \u001b[39mimport\u001b[39;00m parallel_env, RescueGraph\n\u001b[0;32m      7\u001b[0m patrolGraph \u001b[39m=\u001b[39m RescueGraph(\u001b[39m\"\u001b[39m\u001b[39mrescue_zoo/env/cumberland.graph\u001b[39m\u001b[39m\"\u001b[39m)\n\u001b[0;32m      8\u001b[0m env \u001b[39m=\u001b[39m parallel_env(patrolGraph, \u001b[39m3\u001b[39m,\n\u001b[0;32m      9\u001b[0m                                require_explicit_visit\u001b[39m=\u001b[39m\u001b[39mFalse\u001b[39;00m)\n",
      "\u001b[1;31mImportError\u001b[0m: cannot import name 'RescueGraph' from 'rescue_zoo.rescue_zoo_v0' (c:\\Users\\Anthony\\Development\\rescue_zoo\\rescue_zoo\\rescue_zoo_v0.py)"
     ]
    }
   ],
   "source": [
    "%load_ext autoreload\n",
    "%autoreload 2\n",
    "\n",
    "from IPython.display import clear_output\n",
    "from rescue_zoo.rescue_zoo_v0 import parallel_env, RescueGraph\n",
    "\n",
    "patrolGraph = RescueGraph(\"rescue_zoo/env/cumberland.graph\")\n",
    "env = parallel_env(patrolGraph, 3,\n",
    "                               require_explicit_visit=False)\n",
    "\n",
    "observations = env.reset(seed=42)\n",
    "\n",
    "# We temporarily fix the actions to a single node visit for each agent.\n",
    "actions = {agent: env.action_space(agent).sample() for agent in env.agents}\n",
    "\n",
    "i = 0\n",
    "while env.agents:\n",
    "    # this is where you would insert your policy\n",
    "    # actions = {agent: env.action_space(agent).sample() for agent in env.agents}\n",
    "    \n",
    "    observations, rewards, terminations, truncations, infos = env.step(actions)\n",
    "\n",
    "    clear_output(wait=True)\n",
    "    env.render()\n",
    "\n",
    "    i += 1\n",
    "    if i >= 50:\n",
    "        break\n",
    "env.close()"
   ]
  }
 ],
 "metadata": {
  "kernelspec": {
   "display_name": "pettingzoo2",
   "language": "python",
   "name": "python3"
  },
  "language_info": {
   "codemirror_mode": {
    "name": "ipython",
    "version": 3
   },
   "file_extension": ".py",
   "mimetype": "text/x-python",
   "name": "python",
   "nbconvert_exporter": "python",
   "pygments_lexer": "ipython3",
   "version": "3.10.11"
  },
  "orig_nbformat": 4
 },
 "nbformat": 4,
 "nbformat_minor": 2
}
