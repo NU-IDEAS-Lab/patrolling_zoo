{
 "cells": [
  {
   "cell_type": "markdown",
   "metadata": {},
   "source": [
    "# MAPPO Integration\n",
    "\n",
    "This runs the integrated MAPPO algorithm with the patrolling zoo."
   ]
  },
  {
   "cell_type": "code",
   "execution_count": 10,
   "metadata": {},
   "outputs": [],
   "source": [
    "%reload_ext autoreload\n",
    "%autoreload 2\n",
    "from onpolicy.scripts.train.train_patrolling import get_config, parse_args, main\n",
    "\n",
    "import os\n",
    "os.environ[\"WANDB__SERVICE_WAIT\"] = \"300\""
   ]
  },
  {
   "cell_type": "code",
   "execution_count": 11,
   "metadata": {},
   "outputs": [],
   "source": [
    "parser = get_config()\n",
    "all_args = parse_args([], parser)\n",
    "\n",
    "all_args.experiment_name = \"asyncActions\"\n",
    "all_args.env_name = \"Patrolling\"\n",
    "all_args.user_name = \"anthony-goeckner\"\n",
    "\n",
    "all_args.num_agents = 2\n",
    "all_args.agent_speed = 10.0\n",
    "all_args.observe_method = \"ajg_new\"\n",
    "all_args.async_actions = True\n",
    "\n",
    "all_args.graph_name = \"4nodes\"\n",
    "all_args.graph_file = f\"patrolling_zoo/env/{all_args.graph_name}.graph\"\n",
    "all_args.num_env_steps = 10e5 #total number of steps\n",
    "all_args.episode_length = 200 #number of steps in a training episode\n",
    "all_args.max_cycles = all_args.episode_length #number of steps in an environment episode\n",
    "\n",
    "all_args.algorithm_name = \"mappo\"\n",
    "all_args.use_recurrent_policy = True\n",
    "all_args.use_naive_recurrent_policy = False\n",
    "all_args.use_centralized_V = True\n",
    "all_args.use_gae = False\n",
    "all_args.use_gae_amadm = True\n",
    "all_args.share_policy = False\n",
    "\n",
    "all_args.n_rollout_threads = 1\n",
    "all_args.cuda = True\n",
    "all_args.cuda_idx = 0\n",
    "\n",
    "all_args.use_wandb = False"
   ]
  },
  {
   "cell_type": "code",
   "execution_count": 12,
   "metadata": {},
   "outputs": [
    {
     "name": "stdout",
     "output_type": "stream",
     "text": [
      "u are choosing to use mappo, we set use_recurrent_policy & use_naive_recurrent_policy to be False\n",
      "choose to use gpu...\n",
      "\n",
      " Env Patrolling Algo mappo Exp asyncActions updates 0/5000 episodes, total num timesteps 200/1000000.0, FPS 87.\n",
      "\n",
      "average episode rewards is 148800.0\n",
      "\n",
      " Env Patrolling Algo mappo Exp asyncActions updates 1/5000 episodes, total num timesteps 400/1000000.0, FPS 86.\n",
      "\n",
      "average episode rewards is 85166.66259765625\n",
      "\n",
      " Env Patrolling Algo mappo Exp asyncActions updates 2/5000 episodes, total num timesteps 600/1000000.0, FPS 86.\n",
      "\n",
      "average episode rewards is 222666.6748046875\n",
      "\n",
      " Env Patrolling Algo mappo Exp asyncActions updates 3/5000 episodes, total num timesteps 800/1000000.0, FPS 87.\n",
      "\n",
      "average episode rewards is 170909.09423828125\n",
      "\n",
      " Env Patrolling Algo mappo Exp asyncActions updates 4/5000 episodes, total num timesteps 1000/1000000.0, FPS 88.\n",
      "\n",
      "average episode rewards is 125600.0\n",
      "\n",
      " Env Patrolling Algo mappo Exp asyncActions updates 5/5000 episodes, total num timesteps 1200/1000000.0, FPS 89.\n",
      "\n",
      "average episode rewards is 149000.0\n",
      "\n",
      " Env Patrolling Algo mappo Exp asyncActions updates 6/5000 episodes, total num timesteps 1400/1000000.0, FPS 89.\n",
      "\n",
      "average episode rewards is 208421.044921875\n",
      "\n",
      " Env Patrolling Algo mappo Exp asyncActions updates 7/5000 episodes, total num timesteps 1600/1000000.0, FPS 89.\n",
      "\n",
      "average episode rewards is 86577.783203125\n",
      "\n",
      " Env Patrolling Algo mappo Exp asyncActions updates 8/5000 episodes, total num timesteps 1800/1000000.0, FPS 89.\n",
      "\n",
      "average episode rewards is 233777.783203125\n",
      "wandb due to keyboard interrupt\n"
     ]
    }
   ],
   "source": [
    "main([], parsed_args = all_args)"
   ]
  }
 ],
 "metadata": {
  "kernelspec": {
   "display_name": "patrolling_zoo2",
   "language": "python",
   "name": "python3"
  },
  "language_info": {
   "codemirror_mode": {
    "name": "ipython",
    "version": 3
   },
   "file_extension": ".py",
   "mimetype": "text/x-python",
   "name": "python",
   "nbconvert_exporter": "python",
   "pygments_lexer": "ipython3",
   "version": "3.10.11"
  },
  "orig_nbformat": 4
 },
 "nbformat": 4,
 "nbformat_minor": 2
}
