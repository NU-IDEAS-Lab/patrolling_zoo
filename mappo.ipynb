{
 "cells": [
  {
   "cell_type": "markdown",
   "metadata": {},
   "source": [
    "# MAPPO Integration\n",
    "\n",
    "This runs the integrated MAPPO algorithm with the patrolling zoo."
   ]
  },
  {
   "cell_type": "code",
   "execution_count": 1,
   "metadata": {},
   "outputs": [],
   "source": [
    "%reload_ext autoreload\n",
    "%autoreload 2\n",
    "from onpolicy.scripts.train.train_patrolling import get_config, parse_args, main\n",
    "\n",
    "import os\n",
    "os.environ[\"WANDB__SERVICE_WAIT\"] = \"300\""
   ]
  },
  {
   "cell_type": "code",
   "execution_count": 2,
   "metadata": {},
   "outputs": [],
   "source": [
    "parser = get_config()\n",
    "all_args = parse_args([], parser)\n",
    "\n",
    "all_args.experiment_name = \"test\"\n",
    "all_args.env_name = \"Patrolling\"\n",
    "all_args.user_name = \"ideas-mas\"\n",
    "\n",
    "all_args.num_agents = 2\n",
    "all_args.agent_speed = 10.0\n",
    "all_args.observe_method = \"adjacency\"\n",
    "all_args.alpha = 10.0\n",
    "all_args.beta = 1000.0\n",
    "\n",
    "all_args.graph_name = \"4nodes\"\n",
    "all_args.graph_file = f\"patrolling_zoo/env/{all_args.graph_name}.graph\"\n",
    "all_args.num_env_steps = 10e5 * 5 #total number of steps\n",
    "all_args.episode_length = 50 #number of steps in a training episode\n",
    "all_args.max_cycles = all_args.episode_length #number of steps in an environment episode\n",
    "\n",
    "all_args.algorithm_name = \"rmappo\"\n",
    "all_args.use_recurrent_policy = True\n",
    "all_args.use_naive_recurrent_policy = False\n",
    "all_args.use_centralized_V = True\n",
    "all_args.use_gae = False\n",
    "all_args.use_gae_amadm = True\n",
    "all_args.share_policy = False\n",
    "all_args.skip_steps_sync = False\n",
    "all_args.skip_steps_async = True\n",
    "\n",
    "all_args.save_interval = 10\n",
    "all_args.n_rollout_threads = 1\n",
    "all_args.cuda = True\n",
    "all_args.cuda_idx = 0\n",
    "\n",
    "all_args.use_wandb = False"
   ]
  },
  {
   "cell_type": "code",
   "execution_count": 5,
   "metadata": {},
   "outputs": [
    {
     "name": "stdout",
     "output_type": "stream",
     "text": [
      "u are choosing to use rmappo, we set use_recurrent_policy to be True\n",
      "choose to use gpu...\n",
      "\n",
      " Env Patrolling Algo rmappo Exp test updates 0/100000 episodes, total num timesteps 50/5000000.0, FPS 70.\n",
      "\n",
      "average episode rewards is 26.681876182556152\n",
      "\n",
      " Env Patrolling Algo rmappo Exp test updates 1/100000 episodes, total num timesteps 100/5000000.0, FPS 1.\n",
      "\n",
      "average episode rewards is 9.759170562028885\n",
      "\n",
      " Env Patrolling Algo rmappo Exp test updates 2/100000 episodes, total num timesteps 150/5000000.0, FPS 1.\n",
      "\n",
      "average episode rewards is 28.58682870864868\n",
      "\n",
      " Env Patrolling Algo rmappo Exp test updates 3/100000 episodes, total num timesteps 200/5000000.0, FPS 2.\n",
      "\n",
      "average episode rewards is 10554.827880859375\n",
      "\n",
      " Env Patrolling Algo rmappo Exp test updates 4/100000 episodes, total num timesteps 250/5000000.0, FPS 3.\n",
      "\n",
      "average episode rewards is 5911.912155151367\n",
      "\n",
      " Env Patrolling Algo rmappo Exp test updates 5/100000 episodes, total num timesteps 300/5000000.0, FPS 3.\n",
      "\n",
      "average episode rewards is 5911.418151855469\n",
      "\n",
      " Env Patrolling Algo rmappo Exp test updates 6/100000 episodes, total num timesteps 350/5000000.0, FPS 4.\n",
      "\n",
      "average episode rewards is 6185.03303527832\n",
      "\n",
      " Env Patrolling Algo rmappo Exp test updates 7/100000 episodes, total num timesteps 400/5000000.0, FPS 4.\n",
      "\n",
      "average episode rewards is 10946.389770507812\n",
      "\n",
      " Env Patrolling Algo rmappo Exp test updates 8/100000 episodes, total num timesteps 450/5000000.0, FPS 5.\n",
      "\n",
      "average episode rewards is 4048.769760131836\n",
      "\n",
      " Env Patrolling Algo rmappo Exp test updates 9/100000 episodes, total num timesteps 500/5000000.0, FPS 5.\n",
      "\n",
      "average episode rewards is 7919.777679443359\n",
      "\n",
      " Env Patrolling Algo rmappo Exp test updates 10/100000 episodes, total num timesteps 550/5000000.0, FPS 6.\n",
      "\n",
      "average episode rewards is 17677.728271484375\n",
      "\n",
      " Env Patrolling Algo rmappo Exp test updates 11/100000 episodes, total num timesteps 600/5000000.0, FPS 6.\n",
      "\n",
      "average episode rewards is 15292.108154296875\n",
      "\n",
      " Env Patrolling Algo rmappo Exp test updates 12/100000 episodes, total num timesteps 650/5000000.0, FPS 7.\n",
      "\n",
      "average episode rewards is 13687.440490722656\n",
      "\n",
      " Env Patrolling Algo rmappo Exp test updates 13/100000 episodes, total num timesteps 700/5000000.0, FPS 7.\n",
      "\n",
      "average episode rewards is 13798.268127441406\n",
      "\n",
      " Env Patrolling Algo rmappo Exp test updates 14/100000 episodes, total num timesteps 750/5000000.0, FPS 8.\n",
      "\n",
      "average episode rewards is 13795.536804199219\n",
      "wandb due to keyboard interrupt\n"
     ]
    }
   ],
   "source": [
    "main([], parsed_args = all_args)"
   ]
  }
 ],
 "metadata": {
  "kernelspec": {
   "display_name": "patrolling_zoo2",
   "language": "python",
   "name": "python3"
  },
  "language_info": {
   "codemirror_mode": {
    "name": "ipython",
    "version": 3
   },
   "file_extension": ".py",
   "mimetype": "text/x-python",
   "name": "python",
   "nbconvert_exporter": "python",
   "pygments_lexer": "ipython3",
   "version": "3.10.11"
  },
  "orig_nbformat": 4
 },
 "nbformat": 4,
 "nbformat_minor": 2
}
