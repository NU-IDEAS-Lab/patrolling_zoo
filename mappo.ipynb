{
 "cells": [
  {
   "cell_type": "markdown",
   "metadata": {},
   "source": [
    "# MAPPO Integration\n",
    "\n",
    "This runs the integrated MAPPO algorithm with the patrolling zoo."
   ]
  },
  {
   "cell_type": "code",
   "execution_count": 1,
   "metadata": {},
   "outputs": [],
   "source": [
    "%reload_ext autoreload\n",
    "%autoreload 2\n",
    "from onpolicy.scripts.train.train_patrolling import get_config, parse_args, main\n",
    "\n",
    "import os\n",
    "os.environ[\"WANDB__SERVICE_WAIT\"] = \"300\""
   ]
  },
  {
   "cell_type": "code",
   "execution_count": 2,
   "metadata": {},
   "outputs": [],
   "source": [
    "parser = get_config()\n",
    "all_args = parse_args([], parser)\n",
    "\n",
    "all_args.experiment_name = \"noGnnTestStay\"\n",
    "all_args.env_name = \"Patrolling\"\n",
    "all_args.user_name = \"ideas-mas\"\n",
    "\n",
    "all_args.num_agents = 2\n",
    "all_args.agent_speed = 10.0\n",
    "all_args.observe_method = \"pyg\"\n",
    "all_args.observe_method_global = \"adjacency\"\n",
    "all_args.observation_radius = 200.0\n",
    "all_args.observation_bitmap_size = 40\n",
    "all_args.alpha = 0.0\n",
    "all_args.beta = 1.0\n",
    "# all_args.reward_method_terminal = \"average\"\n",
    "all_args.reward_method_terminal = \"none\"\n",
    "all_args.reward_interval = 1\n",
    "\n",
    "all_args.graph_name = \"2nodes\"\n",
    "all_args.graph_file = f\"patrolling_zoo/env/{all_args.graph_name}.graph\"\n",
    "all_args.num_env_steps = 10e5 * 1 #total number of steps\n",
    "all_args.episode_length = 100 #number of steps in a training episode\n",
    "all_args.max_cycles = all_args.episode_length #number of steps in an environment episode\n",
    "\n",
    "all_args.algorithm_name = \"rmappo\"\n",
    "all_args.use_gnn_policy = True\n",
    "all_args.use_recurrent_policy = True\n",
    "all_args.use_naive_recurrent_policy = False\n",
    "all_args.use_centralized_V = True\n",
    "all_args.use_gae = False\n",
    "all_args.use_gae_amadm = True\n",
    "all_args.share_policy = False\n",
    "all_args.sep_share_policy = True\n",
    "all_args.share_reward = False\n",
    "all_args.skip_steps_sync = False\n",
    "all_args.skip_steps_async = True\n",
    "all_args.use_ReLU = True\n",
    "\n",
    "all_args.n_rollout_threads = 1\n",
    "all_args.save_interval = 10\n",
    "all_args.cuda = True\n",
    "all_args.cuda_idx = 7\n",
    "\n",
    "all_args.use_wandb = False"
   ]
  },
  {
   "cell_type": "code",
   "execution_count": 3,
   "metadata": {},
   "outputs": [
    {
     "name": "stdout",
     "output_type": "stream",
     "text": [
      "u are choosing to use rmappo, we set use_recurrent_policy to be True\n",
      "choose to use gpu...\n"
     ]
    },
    {
     "name": "stderr",
     "output_type": "stream",
     "text": [
      "Traceback (most recent call last):\n",
      "  File \"_pydevd_bundle/pydevd_cython.pyx\", line 1078, in _pydevd_bundle.pydevd_cython.PyDBFrame.trace_dispatch\n",
      "  File \"_pydevd_bundle/pydevd_cython.pyx\", line 297, in _pydevd_bundle.pydevd_cython.PyDBFrame.do_wait_suspend\n",
      "  File \"/home/anthony/miniconda3/envs/patrolling_zoo2/lib/python3.10/site-packages/debugpy/_vendored/pydevd/pydevd.py\", line 1976, in do_wait_suspend\n",
      "    keep_suspended = self._do_wait_suspend(thread, frame, event, arg, suspend_type, from_this_thread, frames_tracker)\n",
      "  File \"/home/anthony/miniconda3/envs/patrolling_zoo2/lib/python3.10/site-packages/debugpy/_vendored/pydevd/pydevd.py\", line 2011, in _do_wait_suspend\n",
      "    time.sleep(0.01)\n",
      "KeyboardInterrupt\n"
     ]
    },
    {
     "name": "stdout",
     "output_type": "stream",
     "text": [
      "wandb due to keyboard interrupt\n"
     ]
    }
   ],
   "source": [
    "main([], parsed_args = all_args)"
   ]
  }
 ],
 "metadata": {
  "kernelspec": {
   "display_name": "patrolling_zoo2",
   "language": "python",
   "name": "python3"
  },
  "language_info": {
   "codemirror_mode": {
    "name": "ipython",
    "version": 3
   },
   "file_extension": ".py",
   "mimetype": "text/x-python",
   "name": "python",
   "nbconvert_exporter": "python",
   "pygments_lexer": "ipython3",
   "version": "3.10.0"
  },
  "orig_nbformat": 4
 },
 "nbformat": 4,
 "nbformat_minor": 2
}
