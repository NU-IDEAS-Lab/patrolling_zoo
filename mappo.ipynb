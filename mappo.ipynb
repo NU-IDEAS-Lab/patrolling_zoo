{
 "cells": [
  {
   "cell_type": "markdown",
   "metadata": {},
   "source": [
    "# MAPPO Integration\n",
    "\n",
    "This runs the integrated MAPPO algorithm with the patrolling zoo."
   ]
  },
  {
   "cell_type": "code",
   "execution_count": 1,
   "metadata": {},
   "outputs": [],
   "source": [
    "%reload_ext autoreload\n",
    "%autoreload 2\n",
    "from onpolicy.scripts.train.train_patrolling import get_config, parse_args, main\n",
    "\n",
    "import os\n",
    "os.environ[\"WANDB__SERVICE_WAIT\"] = \"300\""
   ]
  },
  {
   "cell_type": "code",
   "execution_count": 2,
   "metadata": {},
   "outputs": [],
   "source": [
    "from onpolicy.scripts.train.train_patrolling import get_config, parse_args, main\n",
    "\n",
    "import os\n",
    "os.environ[\"WANDB__SERVICE_WAIT\"] = \"300\"\n",
    "\n",
    "parser = get_config()\n",
    "all_args = parse_args([], parser)\n",
    "\n",
    "all_args.experiment_name = \"nbrScoringDepth10JKAggrAdd\"\n",
    "all_args.env_name = \"Patrolling\"\n",
    "all_args.user_name = \"ideas-mas\"\n",
    "\n",
    "all_args.num_agents = 4\n",
    "all_args.agent_speed = 40.0\n",
    "all_args.action_method = \"neighbors\"\n",
    "all_args.observe_method = \"pyg\"\n",
    "all_args.observe_method_global = \"adjacency\"\n",
    "all_args.observation_radius = 200.0\n",
    "all_args.observation_bitmap_size = 40\n",
    "all_args.alpha = 1.0\n",
    "all_args.beta = 0.5\n",
    "# all_args.reward_method_terminal = \"averageAverage\"\n",
    "all_args.reward_method_terminal = \"average\"\n",
    "# all_args.reward_interval = 1\n",
    "\n",
    "# all_args.graph_random = True\n",
    "# all_args.graph_random_nodes = 9\n",
    "all_args.graph_name = \"milwaukee\"\n",
    "all_args.graph_file = f\"patrolling_zoo/env/{all_args.graph_name}.graph\"\n",
    "# all_args.num_env_steps = 10000 #total number of steps\n",
    "all_args.num_env_steps = 10e5 * 1 #total number of steps\n",
    "all_args.episode_length = 200 #number of steps in a training episode\n",
    "all_args.max_cycles = all_args.episode_length #number of steps in an environment episode\n",
    "\n",
    "all_args.algorithm_name = \"mappo\"\n",
    "all_args.use_gnn_policy = True\n",
    "all_args.use_gnn_mlp_policy = True\n",
    "all_args.gnn_layer_N = 10\n",
    "all_args.gnn_hidden_size = 128\n",
    "all_args.gnn_skip_connections = True\n",
    "all_args.use_recurrent_policy = True\n",
    "all_args.use_naive_recurrent_policy = False\n",
    "all_args.use_centralized_V = True\n",
    "all_args.use_gae = False\n",
    "all_args.use_gae_amadm = True\n",
    "all_args.share_policy = True\n",
    "all_args.sep_share_policy = False\n",
    "all_args.share_reward = False\n",
    "all_args.skip_steps_sync = True\n",
    "all_args.skip_steps_async = False\n",
    "all_args.use_ReLU = True\n",
    "all_args.gnn_node_embedding_num = 3\n",
    "# all_args.lr = 1e-3\n",
    "# all_args.entropy_coef = 0.1\n",
    "all_args.hidden_size = 512\n",
    "\n",
    "all_args.n_rollout_threads = 1\n",
    "all_args.save_interval = 1000\n",
    "all_args.cuda = False\n",
    "all_args.cuda_idx = 4\n",
    "\n",
    "all_args.use_wandb = False\n"
   ]
  },
  {
   "cell_type": "code",
   "execution_count": 3,
   "metadata": {},
   "outputs": [
    {
     "name": "stdout",
     "output_type": "stream",
     "text": [
      "u are choosing to use mappo, we set use_recurrent_policy & use_naive_recurrent_policy to be False\n",
      "choose to use cpu...\n",
      "wandb due to keyboard interrupt\n"
     ]
    }
   ],
   "source": [
    "main([], parsed_args = all_args)"
   ]
  }
 ],
 "metadata": {
  "kernelspec": {
   "display_name": "patrolling_zoo2",
   "language": "python",
   "name": "python3"
  },
  "language_info": {
   "codemirror_mode": {
    "name": "ipython",
    "version": 3
   },
   "file_extension": ".py",
   "mimetype": "text/x-python",
   "name": "python",
   "nbconvert_exporter": "python",
   "pygments_lexer": "ipython3",
   "version": "3.9.16"
  },
  "orig_nbformat": 4
 },
 "nbformat": 4,
 "nbformat_minor": 2
}
