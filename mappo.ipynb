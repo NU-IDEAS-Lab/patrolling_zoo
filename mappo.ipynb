{
 "cells": [
  {
   "cell_type": "markdown",
   "metadata": {},
   "source": [
    "# MAPPO Integration\n",
    "\n",
    "This runs the integrated MAPPO algorithm with the patrolling zoo."
   ]
  },
  {
   "cell_type": "code",
   "execution_count": 1,
   "metadata": {},
   "outputs": [],
   "source": [
    "%reload_ext autoreload\n",
    "%autoreload 2\n",
    "from onpolicy.scripts.train.train_patrolling import get_config, parse_args, main\n",
    "\n",
    "import os\n",
    "os.environ[\"WANDB__SERVICE_WAIT\"] = \"300\""
   ]
  },
  {
   "cell_type": "code",
   "execution_count": 2,
   "metadata": {},
   "outputs": [],
   "source": [
    "parser = get_config()\n",
    "all_args = parse_args([], parser)\n",
    "\n",
    "all_args.experiment_name = \"asyncActions\"\n",
    "all_args.env_name = \"Patrolling\"\n",
    "all_args.user_name = \"anthony-goeckner\"\n",
    "\n",
    "all_args.num_agents = 2\n",
    "all_args.agent_speed = 10.0\n",
    "all_args.observe_method = \"ajg_new\"\n",
    "all_args.async_actions = True\n",
    "\n",
    "all_args.graph_name = \"4nodes\"\n",
    "all_args.graph_file = f\"patrolling_zoo/env/{all_args.graph_name}.graph\"\n",
    "all_args.num_env_steps = 10e5 #total number of steps\n",
    "all_args.episode_length = 200 #number of steps in a training episode\n",
    "all_args.max_cycles = all_args.episode_length #number of steps in an environment episode\n",
    "\n",
    "all_args.algorithm_name = \"rmappo\"\n",
    "all_args.use_recurrent_policy = True\n",
    "all_args.use_naive_recurrent_policy = False\n",
    "all_args.use_centralized_V = True\n",
    "all_args.use_gae = False\n",
    "all_args.use_gae_amadm = True\n",
    "\n",
    "all_args.n_rollout_threads = 25\n",
    "all_args.cuda = True\n",
    "all_args.cuda_idx = 0\n",
    "\n",
    "all_args.use_wandb = True"
   ]
  },
  {
   "cell_type": "code",
   "execution_count": 4,
   "metadata": {},
   "outputs": [
    {
     "name": "stdout",
     "output_type": "stream",
     "text": [
      "u are choosing to use rmappo, we set use_recurrent_policy to be True\n",
      "choose to use gpu...\n",
      "\n",
      " Env Patrolling Algo rmappo Exp asyncActions updates 0/5000 episodes, total num timesteps 200/1000000.0, FPS 4.\n",
      "\n",
      "average episode rewards is 85941.63818359375\n",
      "\n",
      " Env Patrolling Algo rmappo Exp asyncActions updates 1/5000 episodes, total num timesteps 400/1000000.0, FPS 7.\n",
      "\n",
      "average episode rewards is 50307.049560546875\n",
      "\n",
      " Env Patrolling Algo rmappo Exp asyncActions updates 2/5000 episodes, total num timesteps 600/1000000.0, FPS 10.\n",
      "\n",
      "average episode rewards is 140212.939453125\n",
      "\n",
      " Env Patrolling Algo rmappo Exp asyncActions updates 3/5000 episodes, total num timesteps 800/1000000.0, FPS 13.\n",
      "\n",
      "average episode rewards is 118681.31103515625\n",
      "\n",
      " Env Patrolling Algo rmappo Exp asyncActions updates 4/5000 episodes, total num timesteps 1000/1000000.0, FPS 16.\n",
      "\n",
      "average episode rewards is 307142.8466796875\n",
      "\n",
      " Env Patrolling Algo rmappo Exp asyncActions updates 5/5000 episodes, total num timesteps 1200/1000000.0, FPS 19.\n",
      "\n",
      "average episode rewards is 101587.29858398438\n",
      "\n",
      " Env Patrolling Algo rmappo Exp asyncActions updates 6/5000 episodes, total num timesteps 1400/1000000.0, FPS 21.\n",
      "\n",
      "average episode rewards is 82077.92358398438\n",
      "\n",
      " Env Patrolling Algo rmappo Exp asyncActions updates 7/5000 episodes, total num timesteps 1600/1000000.0, FPS 23.\n",
      "\n",
      "average episode rewards is 116798.08349609375\n",
      "\n",
      " Env Patrolling Algo rmappo Exp asyncActions updates 8/5000 episodes, total num timesteps 1800/1000000.0, FPS 26.\n",
      "\n",
      "average episode rewards is 74615.78979492188\n",
      "wandb due to keyboard interrupt\n"
     ]
    }
   ],
   "source": [
    "main([], parsed_args = all_args)"
   ]
  }
 ],
 "metadata": {
  "kernelspec": {
   "display_name": "patrolling_zoo2",
   "language": "python",
   "name": "python3"
  },
  "language_info": {
   "codemirror_mode": {
    "name": "ipython",
    "version": 3
   },
   "file_extension": ".py",
   "mimetype": "text/x-python",
   "name": "python",
   "nbconvert_exporter": "python",
   "pygments_lexer": "ipython3",
   "version": "3.10.11"
  },
  "orig_nbformat": 4
 },
 "nbformat": 4,
 "nbformat_minor": 2
}
