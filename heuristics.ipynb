{
 "cells": [
  {
   "cell_type": "markdown",
   "metadata": {},
   "source": [
    "# Heuristic Algorithms\n",
    "\n",
    "This code performs heuristic algorithms on the Patrolling Zoo environment."
   ]
  },
  {
   "cell_type": "code",
   "execution_count": null,
   "metadata": {},
   "outputs": [],
   "source": [
    "%reload_ext autoreload\n",
    "%autoreload 2\n",
    "\n",
    "from patrolling_zoo.patrolling_zoo_v0 import parallel_env, PatrolGraph\n",
    "\n",
    "# set process priority low\n",
    "import psutil\n",
    "import os\n",
    "if os.name == 'nt':\n",
    "    psutil.Process(os.getpid()).nice(psutil.BELOW_NORMAL_PRIORITY_CLASS)\n",
    "else:\n",
    "    psutil.Process(os.getpid()).nice(10)"
   ]
  },
  {
   "cell_type": "markdown",
   "metadata": {},
   "source": [
    "# Environment Configuration"
   ]
  },
  {
   "cell_type": "code",
   "execution_count": null,
   "metadata": {},
   "outputs": [],
   "source": [
    "MAX_CYCLES = 600\n",
    "RENDER_ALL = False\n",
    "RENDER_TERMINAL = True\n",
    "\n",
    "\"\"\" ENV SETUP \"\"\"\n",
    "patrolGraph = PatrolGraph(\"patrolling_zoo/env/cumberland.graph\")\n",
    "env = parallel_env(patrolGraph, 6,\n",
    "    require_explicit_visit = True,\n",
    "    speed = 10,\n",
    "    alpha = 1.0,\n",
    "    max_cycles = MAX_CYCLES,\n",
    "    observe_method = \"ajg_new\"\n",
    ")"
   ]
  },
  {
   "cell_type": "markdown",
   "metadata": {},
   "source": [
    "# AHPA"
   ]
  },
  {
   "cell_type": "code",
   "execution_count": null,
   "metadata": {},
   "outputs": [],
   "source": [
    "from algorithm.ahpa import AHPA\n",
    "\n",
    "algo1 = AHPA(env)"
   ]
  },
  {
   "cell_type": "code",
   "execution_count": null,
   "metadata": {},
   "outputs": [],
   "source": [
    "algo1.evaluate(render=RENDER_ALL, render_terminal=RENDER_TERMINAL, max_cycles=MAX_CYCLES)"
   ]
  },
  {
   "cell_type": "markdown",
   "metadata": {},
   "source": [
    "# Greedy"
   ]
  },
  {
   "cell_type": "code",
   "execution_count": null,
   "metadata": {},
   "outputs": [],
   "source": [
    "from algorithm.greedy import GreedyDistance\n",
    "\n",
    "algo2 = GreedyDistance(env)"
   ]
  },
  {
   "cell_type": "code",
   "execution_count": null,
   "metadata": {},
   "outputs": [],
   "source": [
    "algo2.evaluate(render=RENDER_ALL, render_terminal=RENDER_TERMINAL, max_cycles=MAX_CYCLES)"
   ]
  },
  {
   "cell_type": "code",
   "execution_count": null,
   "metadata": {},
   "outputs": [],
   "source": [
    "from algorithm.greedy import GreedyIdleness\n",
    "\n",
    "algo3 = GreedyIdleness(env)"
   ]
  },
  {
   "cell_type": "code",
   "execution_count": null,
   "metadata": {},
   "outputs": [],
   "source": [
    "algo3.evaluate(render=RENDER_ALL, render_terminal=RENDER_TERMINAL, max_cycles=MAX_CYCLES)"
   ]
  },
  {
   "cell_type": "markdown",
   "metadata": {},
   "source": [
    "# Random"
   ]
  },
  {
   "cell_type": "code",
   "execution_count": null,
   "metadata": {},
   "outputs": [],
   "source": [
    "from algorithm.random import RandomChoice\n",
    "\n",
    "algo4 = RandomChoice(env)"
   ]
  },
  {
   "cell_type": "code",
   "execution_count": null,
   "metadata": {},
   "outputs": [],
   "source": [
    "algo4.evaluate(render=RENDER_ALL, render_terminal=RENDER_TERMINAL, max_cycles=MAX_CYCLES)"
   ]
  }
 ],
 "metadata": {
  "kernelspec": {
   "display_name": "patrolling_zoo",
   "language": "python",
   "name": "python3"
  },
  "language_info": {
   "codemirror_mode": {
    "name": "ipython",
    "version": 3
   },
   "file_extension": ".py",
   "mimetype": "text/x-python",
   "name": "python",
   "nbconvert_exporter": "python",
   "pygments_lexer": "ipython3",
   "version": "3.10.11"
  }
 },
 "nbformat": 4,
 "nbformat_minor": 4
}
