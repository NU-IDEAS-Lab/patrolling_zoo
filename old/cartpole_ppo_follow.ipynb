{
  "cells": [
    {
      "cell_type": "code",
      "execution_count": 44,
      "metadata": {
        "id": "dHmsA7tGytwI"
      },
      "outputs": [],
      "source": [
        "import gym\n",
        "import matplotlib.pyplot as plt\n",
        "import numpy as np\n",
        "import seaborn as sns\n",
        "import torch\n",
        "from torch import nn\n",
        "from torch import optim\n",
        "from torch.distributions.categorical import Categorical\n",
        "\n",
        "device = torch.device(\"cuda\" if torch.cuda.is_available() else \"cpu\")\n",
        "\n",
        "sns.set()"
      ]
    },
    {
      "cell_type": "code",
      "execution_count": 45,
      "metadata": {
        "id": "MR6Glrg0bXo6"
      },
      "outputs": [],
      "source": [
        "DEVICE = 'cpu'"
      ]
    },
    {
      "cell_type": "code",
      "execution_count": 75,
      "metadata": {
        "id": "99naEvVVzjpt"
      },
      "outputs": [],
      "source": [
        "# Policy and value model\n",
        "class ActorCriticNetwork(nn.Module):\n",
        "  def __init__(self, obs_space_size, action_space_size):\n",
        "    super().__init__()\n",
        "\n",
        "    self.shared_layers = nn.Sequential(\n",
        "        nn.Linear(obs_space_size, 256),\n",
        "        nn.ReLU(),\n",
        "        nn.Linear(256, 64),\n",
        "        nn.ReLU())\n",
        "\n",
        "    self.policy_layers = nn.Sequential(\n",
        "        nn.Linear(64, 64),\n",
        "        nn.ReLU(),\n",
        "        nn.Linear(64, action_space_size))\n",
        "\n",
        "    self.value_layers = nn.Sequential(\n",
        "        nn.Linear(64, 64),\n",
        "        nn.ReLU(),\n",
        "        nn.Linear(64, 1))\n",
        "\n",
        "  def value(self, obs):\n",
        "    z = self.shared_layers(obs)\n",
        "    value = self.value_layers(z)\n",
        "    return value\n",
        "\n",
        "  def policy(self, obs):\n",
        "    z = self.shared_layers(obs)\n",
        "    policy_logits = self.policy_layers(z)\n",
        "    return policy_logits\n",
        "\n",
        "  def forward(self, obs):\n",
        "    print(\"yes\")\n",
        "    z = self.shared_layers(obs)\n",
        "    policy_logits = self.policy_layers(z)\n",
        "    value = self.value_layers(z)\n",
        "    return policy_logits, value"
      ]
    },
    {
      "cell_type": "code",
      "execution_count": 76,
      "metadata": {
        "id": "PSPZ4GPKzmlI"
      },
      "outputs": [],
      "source": [
        "class PPOTrainer():\n",
        "  def __init__(self,\n",
        "              actor_critic,\n",
        "              ppo_clip_val=0.2,\n",
        "              target_kl_div=0.01,\n",
        "              max_policy_train_iters=80,\n",
        "              value_train_iters=80,\n",
        "              policy_lr=3e-4,\n",
        "              value_lr=1e-2):\n",
        "    self.ac = actor_critic\n",
        "    self.ppo_clip_val = ppo_clip_val\n",
        "    self.target_kl_div = target_kl_div\n",
        "    self.max_policy_train_iters = max_policy_train_iters\n",
        "    self.value_train_iters = value_train_iters\n",
        "\n",
        "    # Policy and value optimizers\n",
        "    policy_params = list(self.ac.shared_layers.parameters()) + \\\n",
        "        list(self.ac.policy_layers.parameters()) \n",
        "    self.policy_optim = optim.Adam(policy_params, lr=policy_lr)\n",
        "\n",
        "    # Value optimizer \n",
        "    value_params = list(self.ac.shared_layers.parameters()) + \\\n",
        "        list(self.ac.value_layers.parameters())\n",
        "    self.value_optim = optim.Adam(value_params, lr=value_lr)\n",
        "\n",
        "  def train_policy(self, obs, acts, old_log_probs, gaes):\n",
        "    \"\"\" \n",
        "    Train policy network using PPO loss\n",
        "    obs: observations\n",
        "    acts: actions\n",
        "    old_log_probs: log probabilities of old policy\n",
        "    gaes: generalized advantage estimates\n",
        "    \"\"\"\n",
        "    for _ in range(self.max_policy_train_iters):\n",
        "      self.policy_optim.zero_grad()\n",
        "\n",
        "      new_logits = self.ac.policy(obs)\n",
        "      new_logits = Categorical(logits=new_logits)\n",
        "      new_log_probs = new_logits.log_prob(acts)\n",
        "\n",
        "      policy_ratio = torch.exp(new_log_probs - old_log_probs)\n",
        "      clipped_ratio = policy_ratio.clamp(\n",
        "          1 - self.ppo_clip_val, 1 + self.ppo_clip_val)\n",
        "\n",
        "      clipped_loss = clipped_ratio * gaes\n",
        "      full_loss = policy_ratio * gaes\n",
        "      policy_loss = -torch.min(full_loss, clipped_loss).mean()\n",
        "\n",
        "      policy_loss.backward()\n",
        "      self.policy_optim.step()\n",
        "\n",
        "      kl_div = (old_log_probs - new_log_probs).mean()\n",
        "      if kl_div >= self.target_kl_div:\n",
        "        break\n",
        "\n",
        "  def train_value(self, obs, returns):\n",
        "    for _ in range(self.value_train_iters):\n",
        "      self.value_optim.zero_grad()\n",
        "\n",
        "      values = self.ac.value(obs)\n",
        "      value_loss = (returns - values) ** 2\n",
        "      value_loss = value_loss.mean()\n",
        "\n",
        "      value_loss.backward()\n",
        "      self.value_optim.step()"
      ]
    },
    {
      "cell_type": "code",
      "execution_count": 77,
      "metadata": {
        "id": "E4kMg80sbgrj"
      },
      "outputs": [],
      "source": [
        "def discount_rewards(rewards, gamma=0.99):\n",
        "    \"\"\"\n",
        "    Return discounted rewards based on the given rewards and gamma param.\n",
        "    \"\"\"\n",
        "    new_rewards = [float(rewards[-1])]\n",
        "    for i in reversed(range(len(rewards)-1)):\n",
        "        new_rewards.append(float(rewards[i]) + gamma * new_rewards[-1])\n",
        "    return np.array(new_rewards[::-1])\n",
        "\n",
        "def calculate_gaes(rewards, values, gamma=0.99, decay=0.97):\n",
        "    \"\"\"\n",
        "    Return the General Advantage Estimates from the given rewards and values.\n",
        "    Paper: https://arxiv.org/pdf/1506.02438.pdf\n",
        "    \"\"\"\n",
        "    next_values = np.concatenate([values[1:], [0]])\n",
        "    deltas = [rew + gamma * next_val - val for rew, val, next_val in zip(rewards, values, next_values)]\n",
        "\n",
        "    gaes = [deltas[-1]]\n",
        "    for i in reversed(range(len(deltas)-1)):\n",
        "        gaes.append(deltas[i] + decay * gamma * gaes[-1])\n",
        "\n",
        "    return np.array(gaes[::-1])"
      ]
    },
    {
      "cell_type": "code",
      "execution_count": 78,
      "metadata": {
        "id": "RZOgKa5nzG5Y"
      },
      "outputs": [],
      "source": [
        "def rollout(model, env, max_steps=1000):\n",
        "    \"\"\"\n",
        "    Performs a single rollout.\n",
        "    Returns training data in the shape (n_steps, observation_shape)\n",
        "    and the cumulative reward.\n",
        "    \"\"\"\n",
        "    ### Create data storage\n",
        "    train_data = [[], [], [], [], []] # obs, act, reward, values, act_log_probs\n",
        "    obs = env.reset()\n",
        "    obs = batchify_obs(env.observation_spaces, obs, device)\n",
        "\n",
        "    ep_reward = 0\n",
        "    for t in range(max_steps):\n",
        "        logits, val = model(torch.tensor([obs], dtype=torch.float32, device=DEVICE))\n",
        "        act_distribution = []\n",
        "        act = []\n",
        "        act_log_prob = []\n",
        "\n",
        "        for i, agent in enumerate(env.agents()):\n",
        "          act_distribution.append(Categorical(logits=logits[i]))\n",
        "          act.append(act_distribution[i].sample())\n",
        "          act_log_prob.append(act_distribution[i].log_prob(act[i]).item())\n",
        "          act[i] = act[i].item()\n",
        "          val = val.item()\n",
        "\n",
        "        action = {agent: act[i] for i, agent in enumerate(env.agents())}\n",
        "        next_obs  = env.step(action)\n",
        "        reward = patrolGraph.getAverageIdlenessTime(t)\n",
        "        \n",
        "        \n",
        "        for i, item in enumerate((obs, act, reward, val, act_log_prob)):\n",
        "          train_data[i].append(item)\n",
        "\n",
        "        obs = next_obs\n",
        "        ep_reward += reward\n",
        "        if done:\n",
        "            break\n",
        "\n",
        "    train_data = [np.asarray(x) for x in train_data]\n",
        "\n",
        "    ### Do train data filtering\n",
        "    train_data[3] = calculate_gaes(train_data[2], train_data[3])\n",
        "\n",
        "    return train_data, ep_reward"
      ]
    },
    {
      "cell_type": "code",
      "execution_count": 79,
      "metadata": {},
      "outputs": [
        {
          "data": {
            "text/plain": [
              "3.0"
            ]
          },
          "execution_count": 79,
          "metadata": {},
          "output_type": "execute_result"
        }
      ],
      "source": [
        "env = parallel_env(patrolGraph, 5, require_explicit_visit=True)\n",
        "\n",
        "device = torch.device(\"cuda\" if torch.cuda.is_available() else \"cpu\")\n",
        "\n",
        "next_obs = env.reset(seed=42)\n",
        "batched = batchify_obs(env.observation_spaces, next_obs, device).shape\n"
      ]
    },
    {
      "cell_type": "code",
      "execution_count": 73,
      "metadata": {
        "id": "EEHYszzqzcFe"
      },
      "outputs": [],
      "source": [
        "def batchify_obs(obs_space, obs, device):\n",
        "    \"\"\"Converts PZ style observations to batch of torch arrays.\"\"\"\n",
        "    # convert to list of np arrays\n",
        "    obs = flatten(obs_space, obs)\n",
        "    #print(f\"obs shape: {obs.shape} and type: {type(obs)}\")\n",
        "    # obs = np.stack([obs[a] for a in obs], axis=0)\n",
        "    # transpose to be (batch, channel, height, width)\n",
        "    #print(f\"obs shape: {obs.shape} and type: {type(obs)}\")\n",
        "    # obs = obs.transpose(0, -1, 1, 2)\n",
        "    # convert to torch\n",
        "    obs = torch.tensor(obs).to(device)\n",
        "\n",
        "    return obs\n",
        "\n",
        "\n",
        "\n",
        "\n",
        "def unbatchify(x, env):\n",
        "    \"\"\"Converts np array to PZ style arguments.\"\"\"\n",
        "    x = x.cpu().numpy()\n",
        "    x = {a: x[i] for i, a in enumerate(env.possible_agents)}\n",
        "\n",
        "    return x\n",
        "\n",
        "\n"
      ]
    },
    {
      "cell_type": "code",
      "execution_count": 80,
      "metadata": {},
      "outputs": [
        {
          "ename": "ValueError",
          "evalue": "only one element tensors can be converted to Python scalars",
          "output_type": "error",
          "traceback": [
            "\u001b[0;31m---------------------------------------------------------------------------\u001b[0m",
            "\u001b[0;31mValueError\u001b[0m                                Traceback (most recent call last)",
            "Cell \u001b[0;32mIn[80], line 13\u001b[0m\n\u001b[1;32m     11\u001b[0m model \u001b[39m=\u001b[39m ActorCriticNetwork(observation_space_shape, env\u001b[39m.\u001b[39mpg\u001b[39m.\u001b[39mgraph\u001b[39m.\u001b[39mnumber_of_nodes())\n\u001b[1;32m     12\u001b[0m model \u001b[39m=\u001b[39m model\u001b[39m.\u001b[39mto(DEVICE) \u001b[39m# \u001b[39;00m\n\u001b[0;32m---> 13\u001b[0m train_data, reward \u001b[39m=\u001b[39m rollout(model, env) \u001b[39m# Test rollout function\u001b[39;00m\n",
            "Cell \u001b[0;32mIn[78], line 14\u001b[0m, in \u001b[0;36mrollout\u001b[0;34m(model, env, max_steps)\u001b[0m\n\u001b[1;32m     12\u001b[0m ep_reward \u001b[39m=\u001b[39m \u001b[39m0\u001b[39m\n\u001b[1;32m     13\u001b[0m \u001b[39mfor\u001b[39;00m t \u001b[39min\u001b[39;00m \u001b[39mrange\u001b[39m(max_steps):\n\u001b[0;32m---> 14\u001b[0m     logits, val \u001b[39m=\u001b[39m model(torch\u001b[39m.\u001b[39;49mtensor([obs], dtype\u001b[39m=\u001b[39;49mtorch\u001b[39m.\u001b[39;49mfloat32, device\u001b[39m=\u001b[39;49mDEVICE))\n\u001b[1;32m     15\u001b[0m     act_distribution \u001b[39m=\u001b[39m []\n\u001b[1;32m     16\u001b[0m     act \u001b[39m=\u001b[39m []\n",
            "\u001b[0;31mValueError\u001b[0m: only one element tensors can be converted to Python scalars"
          ]
        }
      ],
      "source": [
        "from gymnasium.spaces.utils import flatten\n",
        "from IPython.display import clear_output\n",
        "from patrolling_zoo.patrolling_zoo_v0 import parallel_env, PatrolGraph\n",
        "\n",
        "patrolGraph = PatrolGraph(\"patrolling_zoo/env/cumberland.graph\")\n",
        "env = parallel_env(patrolGraph, 3, require_explicit_visit=True)\n",
        "obs = env.reset()\n",
        "observation_space_shape = batchify_obs(env.observation_spaces, obs, device).shape[0]\n",
        "env = parallel_env(patrolGraph, 3, require_explicit_visit=True)\n",
        "\n",
        "model = ActorCriticNetwork(observation_space_shape, env.pg.graph.number_of_nodes())\n",
        "model = model.to(DEVICE) # \n",
        "train_data, reward = rollout(model, env) # Test rollout function"
      ]
    },
    {
      "cell_type": "code",
      "execution_count": 28,
      "metadata": {},
      "outputs": [
        {
          "ename": "AttributeError",
          "evalue": "'function' object has no attribute 'n'",
          "output_type": "error",
          "traceback": [
            "\u001b[0;31m---------------------------------------------------------------------------\u001b[0m",
            "\u001b[0;31mAttributeError\u001b[0m                            Traceback (most recent call last)",
            "Cell \u001b[0;32mIn[28], line 1\u001b[0m\n\u001b[0;32m----> 1\u001b[0m env\u001b[39m.\u001b[39;49maction_space\u001b[39m.\u001b[39;49mn\n",
            "\u001b[0;31mAttributeError\u001b[0m: 'function' object has no attribute 'n'"
          ]
        }
      ],
      "source": [
        "env.action_space.n"
      ]
    },
    {
      "cell_type": "code",
      "execution_count": 8,
      "metadata": {
        "id": "J6-bk718ch2E"
      },
      "outputs": [],
      "source": [
        "# Define training params\n",
        "n_episodes = 200\n",
        "print_freq = 20\n",
        "\n",
        "ppo = PPOTrainer(\n",
        "    model,\n",
        "    policy_lr = 3e-4,\n",
        "    value_lr = 1e-3,\n",
        "    target_kl_div = 0.02,\n",
        "    max_policy_train_iters = 40,\n",
        "    value_train_iters = 40)"
      ]
    },
    {
      "cell_type": "code",
      "execution_count": null,
      "metadata": {},
      "outputs": [],
      "source": []
    },
    {
      "cell_type": "code",
      "execution_count": 9,
      "metadata": {
        "colab": {
          "base_uri": "https://localhost:8080/"
        },
        "id": "3u86EivSdH_g",
        "outputId": "cdde9a2b-3e0d-4b44-a12c-3dfc9c7521d8"
      },
      "outputs": [],
      "source": [
        "# Training loop\n",
        "ep_rewards = []\n",
        "for episode_idx in range(1):\n",
        "  # Perform rollout\n",
        "  train_data, reward = rollout(model, env)\n",
        "  ep_rewards.append(reward)\n",
        "\n",
        "  # Shuffle\n",
        "  permute_idxs = np.random.permutation(len(train_data[0]))\n",
        "\n",
        "  # Policy data\n",
        "  obs = torch.tensor(train_data[0][permute_idxs],\n",
        "                     dtype=torch.float32, device=DEVICE)\n",
        "  acts = torch.tensor(train_data[1][permute_idxs],\n",
        "                      dtype=torch.int32, device=DEVICE)\n",
        "  gaes = torch.tensor(train_data[3][permute_idxs],\n",
        "                      dtype=torch.float32, device=DEVICE)\n",
        "  act_log_probs = torch.tensor(train_data[4][permute_idxs],\n",
        "                               dtype=torch.float32, device=DEVICE)\n",
        "\n",
        "  # Value data\n",
        "  returns = discount_rewards(train_data[2])[permute_idxs]\n",
        "  returns = torch.tensor(returns, dtype=torch.float32, device=DEVICE)\n",
        "\n",
        "  # Train model\n",
        "  ppo.train_policy(obs, acts, act_log_probs, gaes)\n",
        "  ppo.train_value(obs, returns)\n",
        "\n",
        "  if (episode_idx + 1) % print_freq == 0:\n",
        "    print('Episode {} | Avg Reward {:.1f}'.format(\n",
        "        episode_idx + 1, np.mean(ep_rewards[-print_freq:])))"
      ]
    },
    {
      "cell_type": "code",
      "execution_count": null,
      "metadata": {},
      "outputs": [],
      "source": []
    }
  ],
  "metadata": {
    "colab": {
      "provenance": []
    },
    "kernelspec": {
      "display_name": "Python 3",
      "name": "python3"
    },
    "language_info": {
      "codemirror_mode": {
        "name": "ipython",
        "version": 3
      },
      "file_extension": ".py",
      "mimetype": "text/x-python",
      "name": "python",
      "nbconvert_exporter": "python",
      "pygments_lexer": "ipython3",
      "version": "3.9.16"
    }
  },
  "nbformat": 4,
  "nbformat_minor": 0
}
