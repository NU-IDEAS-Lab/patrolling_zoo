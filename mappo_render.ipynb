{
 "cells": [
  {
   "cell_type": "markdown",
   "metadata": {},
   "source": [
    "# MAPPO Evaluation & Rendering\n",
    "\n",
    "This runs the trained MAPPO policy with the patrolling zoo."
   ]
  },
  {
   "cell_type": "code",
   "execution_count": 2,
   "metadata": {},
   "outputs": [],
   "source": [
    "%reload_ext autoreload\n",
    "%autoreload 2\n",
    "from onpolicy.scripts.render.render_patrolling import get_config, parse_args, main\n",
    "\n",
    "import os\n",
    "os.environ[\"WANDB__SERVICE_WAIT\"] = \"300\""
   ]
  },
  {
   "cell_type": "code",
   "execution_count": 3,
   "metadata": {},
   "outputs": [],
   "source": [
    "parser = get_config()\n",
    "all_args = parse_args([], parser)\n",
    "\n",
    "all_args.use_render = True\n",
    "all_args.model_dir = \"/Users/yueyuansui/Github/patrolling_zoo/onpolicy/scripts/results/Patrolling/9nodes/rmappo/bitmap/run3/models\"\n",
    "\n",
    "all_args.experiment_name = \"heavierGlobalWeight\"\n",
    "all_args.env_name = \"Patrolling\"\n",
    "all_args.user_name = \"anthony-goeckner\"\n",
    "\n",
    "all_args.num_agents = 2\n",
    "all_args.graph_name = \"9nodes\"\n",
    "all_args.graph_file = f\"patrolling_zoo/env/{all_args.graph_name}.graph\"\n",
    "\n",
    "all_args.episode_length = 50\n",
    "all_args.render_episodes = 1\n",
    "\n",
    "all_args.algorithm_name = \"rmappo\"\n",
    "all_args.use_recurrent_policy = True\n",
    "all_args.use_naive_recurrent_policy = False\n",
    "all_args.use_centralized_V = True\n",
    "\n",
    "all_args.n_rollout_threads = 1\n",
    "\n",
    "all_args.use_wandb = False"
   ]
  },
  {
   "cell_type": "code",
   "execution_count": 4,
   "metadata": {},
   "outputs": [
    {
     "name": "stdout",
     "output_type": "stream",
     "text": [
      "u are choosing to use rmappo, we set use_recurrent_policy to be True\n",
      "choose to use cpu...\n"
     ]
    },
    {
     "ename": "RuntimeError",
     "evalue": "Error(s) in loading state_dict for R_Actor:\n\tsize mismatch for base.feature_norm.weight: copying a param with shape torch.Size([36002]) from checkpoint, the shape in current model is torch.Size([20]).\n\tsize mismatch for base.feature_norm.bias: copying a param with shape torch.Size([36002]) from checkpoint, the shape in current model is torch.Size([20]).\n\tsize mismatch for base.mlp.fc1.0.weight: copying a param with shape torch.Size([64, 36002]) from checkpoint, the shape in current model is torch.Size([64, 20]).",
     "output_type": "error",
     "traceback": [
      "\u001b[0;31m---------------------------------------------------------------------------\u001b[0m",
      "\u001b[0;31mRuntimeError\u001b[0m                              Traceback (most recent call last)",
      "Cell \u001b[0;32mIn[4], line 1\u001b[0m\n\u001b[0;32m----> 1\u001b[0m main([], parsed_args \u001b[39m=\u001b[39;49m all_args)\n",
      "File \u001b[0;32m~/Github/patrolling_zoo/onpolicy/scripts/render/render_patrolling.py:107\u001b[0m, in \u001b[0;36mmain\u001b[0;34m(args, parsed_args)\u001b[0m\n\u001b[1;32m    104\u001b[0m     \u001b[39mraise\u001b[39;00m \u001b[39mNotImplementedError\u001b[39;00m()\n\u001b[1;32m    105\u001b[0m     \u001b[39mfrom\u001b[39;00m \u001b[39monpolicy\u001b[39;00m\u001b[39m.\u001b[39;00m\u001b[39mrunner\u001b[39;00m\u001b[39m.\u001b[39;00m\u001b[39mseparated\u001b[39;00m\u001b[39m.\u001b[39;00m\u001b[39mfootball_runner\u001b[39;00m \u001b[39mimport\u001b[39;00m FootballRunner \u001b[39mas\u001b[39;00m Runner\n\u001b[0;32m--> 107\u001b[0m runner \u001b[39m=\u001b[39m Runner(config)\n\u001b[1;32m    108\u001b[0m runner\u001b[39m.\u001b[39mrender()\n\u001b[1;32m    110\u001b[0m \u001b[39m# post process\u001b[39;00m\n",
      "File \u001b[0;32m~/Github/patrolling_zoo/onpolicy/runner/shared/patrolling_runner.py:20\u001b[0m, in \u001b[0;36mPatrollingRunner.__init__\u001b[0;34m(self, config)\u001b[0m\n\u001b[1;32m     19\u001b[0m \u001b[39mdef\u001b[39;00m \u001b[39m__init__\u001b[39m(\u001b[39mself\u001b[39m, config):\n\u001b[0;32m---> 20\u001b[0m     \u001b[39msuper\u001b[39;49m(PatrollingRunner, \u001b[39mself\u001b[39;49m)\u001b[39m.\u001b[39;49m\u001b[39m__init__\u001b[39;49m(config)\n\u001b[1;32m     21\u001b[0m     \u001b[39mself\u001b[39m\u001b[39m.\u001b[39menv_infos \u001b[39m=\u001b[39m defaultdict(\u001b[39mlist\u001b[39m)\n",
      "File \u001b[0;32m~/Github/patrolling_zoo/onpolicy/runner/shared/base_runner.py:79\u001b[0m, in \u001b[0;36mRunner.__init__\u001b[0;34m(self, config)\u001b[0m\n\u001b[1;32m     72\u001b[0m \u001b[39mself\u001b[39m\u001b[39m.\u001b[39mpolicy \u001b[39m=\u001b[39m Policy(\u001b[39mself\u001b[39m\u001b[39m.\u001b[39mall_args,\n\u001b[1;32m     73\u001b[0m                     \u001b[39mself\u001b[39m\u001b[39m.\u001b[39menvs\u001b[39m.\u001b[39mobservation_space[\u001b[39m0\u001b[39m],\n\u001b[1;32m     74\u001b[0m                     share_observation_space,\n\u001b[1;32m     75\u001b[0m                     \u001b[39mself\u001b[39m\u001b[39m.\u001b[39menvs\u001b[39m.\u001b[39maction_space[\u001b[39m0\u001b[39m],\n\u001b[1;32m     76\u001b[0m                     device \u001b[39m=\u001b[39m \u001b[39mself\u001b[39m\u001b[39m.\u001b[39mdevice)\n\u001b[1;32m     78\u001b[0m \u001b[39mif\u001b[39;00m \u001b[39mself\u001b[39m\u001b[39m.\u001b[39mmodel_dir \u001b[39mis\u001b[39;00m \u001b[39mnot\u001b[39;00m \u001b[39mNone\u001b[39;00m:\n\u001b[0;32m---> 79\u001b[0m     \u001b[39mself\u001b[39;49m\u001b[39m.\u001b[39;49mrestore()\n\u001b[1;32m     81\u001b[0m \u001b[39m# algorithm\u001b[39;00m\n\u001b[1;32m     82\u001b[0m \u001b[39mself\u001b[39m\u001b[39m.\u001b[39mtrainer \u001b[39m=\u001b[39m TrainAlgo(\u001b[39mself\u001b[39m\u001b[39m.\u001b[39mall_args, \u001b[39mself\u001b[39m\u001b[39m.\u001b[39mpolicy, device \u001b[39m=\u001b[39m \u001b[39mself\u001b[39m\u001b[39m.\u001b[39mdevice)\n",
      "File \u001b[0;32m~/Github/patrolling_zoo/onpolicy/runner/shared/base_runner.py:140\u001b[0m, in \u001b[0;36mRunner.restore\u001b[0;34m(self)\u001b[0m\n\u001b[1;32m    138\u001b[0m \u001b[39m\u001b[39m\u001b[39m\"\"\"Restore policy's networks from a saved model.\"\"\"\u001b[39;00m\n\u001b[1;32m    139\u001b[0m policy_actor_state_dict \u001b[39m=\u001b[39m torch\u001b[39m.\u001b[39mload(\u001b[39mstr\u001b[39m(\u001b[39mself\u001b[39m\u001b[39m.\u001b[39mmodel_dir) \u001b[39m+\u001b[39m \u001b[39m'\u001b[39m\u001b[39m/actor.pt\u001b[39m\u001b[39m'\u001b[39m)\n\u001b[0;32m--> 140\u001b[0m \u001b[39mself\u001b[39;49m\u001b[39m.\u001b[39;49mpolicy\u001b[39m.\u001b[39;49mactor\u001b[39m.\u001b[39;49mload_state_dict(policy_actor_state_dict)\n\u001b[1;32m    141\u001b[0m \u001b[39mif\u001b[39;00m \u001b[39mnot\u001b[39;00m \u001b[39mself\u001b[39m\u001b[39m.\u001b[39mall_args\u001b[39m.\u001b[39muse_render:\n\u001b[1;32m    142\u001b[0m     policy_critic_state_dict \u001b[39m=\u001b[39m torch\u001b[39m.\u001b[39mload(\u001b[39mstr\u001b[39m(\u001b[39mself\u001b[39m\u001b[39m.\u001b[39mmodel_dir) \u001b[39m+\u001b[39m \u001b[39m'\u001b[39m\u001b[39m/critic.pt\u001b[39m\u001b[39m'\u001b[39m)\n",
      "File \u001b[0;32m/opt/anaconda3/envs/pettingzoo/lib/python3.9/site-packages/torch/nn/modules/module.py:2041\u001b[0m, in \u001b[0;36mModule.load_state_dict\u001b[0;34m(self, state_dict, strict)\u001b[0m\n\u001b[1;32m   2036\u001b[0m         error_msgs\u001b[39m.\u001b[39minsert(\n\u001b[1;32m   2037\u001b[0m             \u001b[39m0\u001b[39m, \u001b[39m'\u001b[39m\u001b[39mMissing key(s) in state_dict: \u001b[39m\u001b[39m{}\u001b[39;00m\u001b[39m. \u001b[39m\u001b[39m'\u001b[39m\u001b[39m.\u001b[39mformat(\n\u001b[1;32m   2038\u001b[0m                 \u001b[39m'\u001b[39m\u001b[39m, \u001b[39m\u001b[39m'\u001b[39m\u001b[39m.\u001b[39mjoin(\u001b[39m'\u001b[39m\u001b[39m\"\u001b[39m\u001b[39m{}\u001b[39;00m\u001b[39m\"\u001b[39m\u001b[39m'\u001b[39m\u001b[39m.\u001b[39mformat(k) \u001b[39mfor\u001b[39;00m k \u001b[39min\u001b[39;00m missing_keys)))\n\u001b[1;32m   2040\u001b[0m \u001b[39mif\u001b[39;00m \u001b[39mlen\u001b[39m(error_msgs) \u001b[39m>\u001b[39m \u001b[39m0\u001b[39m:\n\u001b[0;32m-> 2041\u001b[0m     \u001b[39mraise\u001b[39;00m \u001b[39mRuntimeError\u001b[39;00m(\u001b[39m'\u001b[39m\u001b[39mError(s) in loading state_dict for \u001b[39m\u001b[39m{}\u001b[39;00m\u001b[39m:\u001b[39m\u001b[39m\\n\u001b[39;00m\u001b[39m\\t\u001b[39;00m\u001b[39m{}\u001b[39;00m\u001b[39m'\u001b[39m\u001b[39m.\u001b[39mformat(\n\u001b[1;32m   2042\u001b[0m                        \u001b[39mself\u001b[39m\u001b[39m.\u001b[39m\u001b[39m__class__\u001b[39m\u001b[39m.\u001b[39m\u001b[39m__name__\u001b[39m, \u001b[39m\"\u001b[39m\u001b[39m\\n\u001b[39;00m\u001b[39m\\t\u001b[39;00m\u001b[39m\"\u001b[39m\u001b[39m.\u001b[39mjoin(error_msgs)))\n\u001b[1;32m   2043\u001b[0m \u001b[39mreturn\u001b[39;00m _IncompatibleKeys(missing_keys, unexpected_keys)\n",
      "\u001b[0;31mRuntimeError\u001b[0m: Error(s) in loading state_dict for R_Actor:\n\tsize mismatch for base.feature_norm.weight: copying a param with shape torch.Size([36002]) from checkpoint, the shape in current model is torch.Size([20]).\n\tsize mismatch for base.feature_norm.bias: copying a param with shape torch.Size([36002]) from checkpoint, the shape in current model is torch.Size([20]).\n\tsize mismatch for base.mlp.fc1.0.weight: copying a param with shape torch.Size([64, 36002]) from checkpoint, the shape in current model is torch.Size([64, 20])."
     ]
    }
   ],
   "source": [
    "main([], parsed_args = all_args)"
   ]
  }
 ],
 "metadata": {
  "kernelspec": {
   "display_name": "patrolling_zoo2",
   "language": "python",
   "name": "python3"
  },
  "language_info": {
   "codemirror_mode": {
    "name": "ipython",
    "version": 3
   },
   "file_extension": ".py",
   "mimetype": "text/x-python",
   "name": "python",
   "nbconvert_exporter": "python",
   "pygments_lexer": "ipython3",
   "version": "3.9.16"
  },
  "orig_nbformat": 4
 },
 "nbformat": 4,
 "nbformat_minor": 2
}
