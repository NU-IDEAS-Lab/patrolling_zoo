{
 "cells": [
  {
   "attachments": {},
   "cell_type": "markdown",
   "metadata": {},
   "source": [
    "# PPO Algorithm\n",
    "\n",
    "This code performs PPO on the Patrolling Zoo environment."
   ]
  },
  {
   "cell_type": "code",
   "execution_count": null,
   "metadata": {},
   "outputs": [],
   "source": [
    "%load_ext autoreload\n",
    "%autoreload 2\n",
    "\n",
    "import torch\n",
    "from patrolling_zoo.patrolling_zoo_v0 import parallel_env, PatrolGraph\n",
    "from algorithm.ppo import PPO, Agent\n",
    "\n",
    "# set process priority low\n",
    "import psutil\n",
    "import os\n",
    "if os.name == 'nt':\n",
    "    psutil.Process(os.getpid()).nice(psutil.BELOW_NORMAL_PRIORITY_CLASS)\n",
    "else:\n",
    "    psutil.Process(os.getpid()).nice(10)"
   ]
  },
  {
   "cell_type": "code",
   "execution_count": null,
   "metadata": {},
   "outputs": [],
   "source": [
    "import tensorflow as tf\n",
    "tensorboard_callback = tf.keras.callbacks.TensorBoard(log_dir=\"logs\")\n",
    "tensorboard_callback\n"
   ]
  },
  {
   "attachments": {},
   "cell_type": "markdown",
   "metadata": {},
   "source": [
    "# Configuration"
   ]
  },
  {
   "cell_type": "code",
   "execution_count": null,
   "metadata": {},
   "outputs": [],
   "source": [
    "total_timesteps = 3000*120\n",
    "\"\"\" ENV SETUP \"\"\"\n",
    "patrolGraph = PatrolGraph(\"patrolling_zoo/env/cumberland.graph\")\n",
    "env = parallel_env(patrolGraph, 3,\n",
    "    require_explicit_visit=False,\n",
    "    speed= 1.0,\n",
    "    alpha=2, # exponential bases for reward\n",
    "    max_cycles=total_timesteps,\n",
    "    reward_shift = 0.0,\n",
    ")\n",
    "\n",
    "\"\"\"ALGO PARAMS\"\"\"\n",
    "algo = PPO(\n",
    "    env = env,\n",
    "    track = True,\n",
    "    gamma = 0.99,\n",
    "    total_timesteps = total_timesteps,\n",
    "    num_steps = 3000,\n",
    "    anneal_lr = False\n",
    ")"
   ]
  },
  {
   "attachments": {},
   "cell_type": "markdown",
   "metadata": {},
   "source": [
    "# Training"
   ]
  },
  {
   "cell_type": "code",
   "execution_count": null,
   "metadata": {},
   "outputs": [],
   "source": [
    "agent = algo.train()"
   ]
  },
  {
   "attachments": {},
   "cell_type": "markdown",
   "metadata": {},
   "source": [
    "# Evaluation"
   ]
  },
  {
   "cell_type": "code",
   "execution_count": null,
   "metadata": {},
   "outputs": [],
   "source": [
    "algo.evaluate(render=True, agent=algo.agent, max_cycles=1)"
   ]
  },
  {
   "cell_type": "code",
   "execution_count": null,
   "metadata": {},
   "outputs": [],
   "source": []
  }
 ],
 "metadata": {
  "kernelspec": {
   "display_name": "base",
   "language": "python",
   "name": "python3"
  },
  "language_info": {
   "codemirror_mode": {
    "name": "ipython",
    "version": 3
   },
   "file_extension": ".py",
   "mimetype": "text/x-python",
   "name": "python",
   "nbconvert_exporter": "python",
   "pygments_lexer": "ipython3",
   "version": "3.9.16"
  }
 },
 "nbformat": 4,
 "nbformat_minor": 4
}
