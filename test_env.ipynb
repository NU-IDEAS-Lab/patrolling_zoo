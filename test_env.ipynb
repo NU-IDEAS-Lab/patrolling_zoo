{
 "cells": [
  {
   "cell_type": "code",
   "execution_count": 1,
   "metadata": {},
   "outputs": [],
   "source": [
    "%reload_ext autoreload\n",
    "%autoreload 2\n",
    "import os\n",
    "import networkx as nx\n",
    "\n",
    "from sdzoo.env.sdzoo import parallel_env\n",
    "from sdzoo.env.sd_graph import SDGraph\n"
   ]
  },
  {
   "cell_type": "code",
   "execution_count": 2,
   "metadata": {},
   "outputs": [],
   "source": [
    "sdg = SDGraph(\"/home/gyaan/data/sdzoo/sdzoo/env/2nodes.graph\")\n",
    "env = parallel_env(sd_graph=sdg, num_agents=1)"
   ]
  },
  {
   "cell_type": "markdown",
   "metadata": {},
   "source": []
  },
  {
   "cell_type": "code",
   "execution_count": 3,
   "metadata": {},
   "outputs": [
    {
     "name": "stdout",
     "output_type": "stream",
     "text": [
      "SDZoo Environment\n",
      "Graph: Graph with 2 nodes and 1 edges:\n",
      "{0: {'pos': (30.0, 25.0), 'id': 0, 'nodeType': <NODE_TYPE.OBSERVABLE_NODE: 0>, 'depot': False, 'people': 3, 'payloads': 0}, 1: {'pos': (70.0, 25.0), 'id': 1, 'nodeType': <NODE_TYPE.OBSERVABLE_NODE: 0>, 'depot': True, 'people': 0, 'payloads': 3}}\n",
      "Agents: [Agent 0: {'position': (70.0, 25.0), 'payloads': 0, 'max_capacity': 1, 'currentState': 1, 'lastNode': 1, 'edge': None, 'currentAction': -1.0, 'speed': 1.0, 'observationRadius': inf}]\n",
      "Observation Method: adjacency\n",
      "Action Method: neighbors\n"
     ]
    }
   ],
   "source": [
    "print(env)"
   ]
  },
  {
   "cell_type": "code",
   "execution_count": 4,
   "metadata": {},
   "outputs": [
    {
     "name": "stdout",
     "output_type": "stream",
     "text": [
      "[1. 0. 0. 0. 0. 0. 0. 0. 0. 0. 0. 0. 0. 0. 0. 1. 0.]\n"
     ]
    }
   ],
   "source": [
    "print(env._getAvailableActions(env.agents[0]))"
   ]
  },
  {
   "cell_type": "code",
   "execution_count": null,
   "metadata": {},
   "outputs": [],
   "source": []
  },
  {
   "cell_type": "markdown",
   "metadata": {},
   "source": []
  },
  {
   "cell_type": "code",
   "execution_count": 5,
   "metadata": {},
   "outputs": [
    {
     "data": {
      "text/plain": [
       "[2, 3, 4, 5, 6]"
      ]
     },
     "execution_count": 5,
     "metadata": {},
     "output_type": "execute_result"
    }
   ],
   "source": [
    "a[2:7]"
   ]
  },
  {
   "cell_type": "code",
   "execution_count": null,
   "metadata": {},
   "outputs": [],
   "source": []
  }
 ],
 "metadata": {
  "kernelspec": {
   "display_name": "sdzoo",
   "language": "python",
   "name": "python3"
  },
  "language_info": {
   "codemirror_mode": {
    "name": "ipython",
    "version": 3
   },
   "file_extension": ".py",
   "mimetype": "text/x-python",
   "name": "python",
   "nbconvert_exporter": "python",
   "pygments_lexer": "ipython3",
   "version": "3.10.13"
  }
 },
 "nbformat": 4,
 "nbformat_minor": 2
}
